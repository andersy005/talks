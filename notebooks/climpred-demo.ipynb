{
 "cells": [
  {
   "cell_type": "markdown",
   "metadata": {},
   "source": [
    "## Set up environment\n"
   ]
  },
  {
   "cell_type": "code",
   "execution_count": null,
   "metadata": {},
   "outputs": [],
   "source": [
    "import intake\n",
    "import proplot as plt\n",
    "import numpy as np"
   ]
  },
  {
   "cell_type": "markdown",
   "metadata": {},
   "source": [
    "## Create and Connect to Dask Distributed Cluster\n"
   ]
  },
  {
   "cell_type": "code",
   "execution_count": null,
   "metadata": {},
   "outputs": [],
   "source": [
    "from dask_gateway import Gateway\n",
    "from dask.distributed import Client\n",
    "\n",
    "gateway = Gateway()\n",
    "cluster = gateway.new_cluster()\n",
    "cluster.adapt(minimum=2, maximum=100)\n",
    "# Connect to cluster\n",
    "client = Client(cluster)\n",
    "# Display cluster dashboard URL\n",
    "cluster"
   ]
  },
  {
   "cell_type": "code",
   "execution_count": null,
   "metadata": {},
   "outputs": [],
   "source": [
    "col = intake.open_esm_datastore(\n",
    "    \"https://raw.githubusercontent.com/NCAR/intake-esm-datastore/master/catalogs/pangeo-cmip6.json\"\n",
    ")\n",
    "col"
   ]
  },
  {
   "cell_type": "code",
   "execution_count": null,
   "metadata": {},
   "outputs": [],
   "source": [
    "col.df.head()"
   ]
  },
  {
   "cell_type": "code",
   "execution_count": null,
   "metadata": {},
   "outputs": [],
   "source": [
    "## Set up Hindcast\n",
    "\n",
    "\"Ensembles of 20 historical decadal forecasts, initialized at the end of each year from 1960 to 2013,\""
   ]
  },
  {
   "cell_type": "code",
   "execution_count": null,
   "metadata": {},
   "outputs": [],
   "source": [
    "variable_id = \"tas\"\n",
    "table_id = \"Amon\"\n",
    "source_id = \"CanESM5\"\n",
    "member_ids = [\"r10i1p2f1\", \"r11i1p2f1\", \"r12i1p2f1\", \"r13i1p2f1\", \"r14i1p2f1\"]\n",
    "inits = list(np.arange(1970, 2015))\n",
    "cat_cmip = col.search(\n",
    "    experiment_id=[\"dcppA-hindcast\"],\n",
    "    table_id=table_id,\n",
    "    variable_id=variable_id,\n",
    "    source_id=source_id,\n",
    "    member_id=member_ids,\n",
    "    dcpp_init_year=inits,\n",
    ")\n",
    "cat_cmip.df[\"dcpp_init_year\"] = cat_cmip.df.dcpp_init_year.astype(int)"
   ]
  },
  {
   "cell_type": "code",
   "execution_count": null,
   "metadata": {},
   "outputs": [],
   "source": [
    "def preprocess(ds):\n",
    "    ds[\"time\"] = np.arange(1, 1 + ds.time.size)\n",
    "    return ds\n",
    "\n",
    "\n",
    "dset_dict = cat_cmip.to_dataset_dict(\n",
    "    zarr_kwargs={\"consolidated\": True, \"use_cftime\": False},\n",
    "    preprocess=preprocess,\n",
    ")\n",
    "dset_dict"
   ]
  },
  {
   "cell_type": "code",
   "execution_count": null,
   "metadata": {},
   "outputs": [],
   "source": []
  }
 ],
 "metadata": {
  "kernelspec": {
   "display_name": "Python 3",
   "language": "python",
   "name": "python3"
  },
  "language_info": {
   "codemirror_mode": {
    "name": "ipython",
    "version": 3
   },
   "file_extension": ".py",
   "mimetype": "text/x-python",
   "name": "python",
   "nbconvert_exporter": "python",
   "pygments_lexer": "ipython3",
   "version": "3.7.8"
  }
 },
 "nbformat": 4,
 "nbformat_minor": 4
}
