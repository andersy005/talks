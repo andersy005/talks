{
 "cells": [
  {
   "cell_type": "markdown",
   "metadata": {},
   "source": [
    "# Analysis of Gridded Ensemble Precipitation and Temperature Estimates over the Contiguous United States\n",
    "\n",
    "For this example, we'll work with 100 member ensemble of precipitation and\n",
    "temperature data.\n",
    "\n",
    "Link to dataset:\n",
    "https://www.earthsystemgrid.org/dataset/gridded_precip_and_temp.html\n",
    "\n",
    "Try running this notebook in the cloud:\n",
    "https://binder.pangeo.io/v2/gh/pangeo-data/pangeo-tutorial-agu-2018/master?filepath=notebooks%2Fgmet_ensemble.ipynb\n"
   ]
  },
  {
   "cell_type": "code",
   "execution_count": null,
   "metadata": {},
   "outputs": [],
   "source": [
    "%matplotlib inline\n",
    "import warnings\n",
    "warnings.filterwarnings('ignore')\n",
    "import numpy as np\n",
    "import xarray as xr\n",
    "import matplotlib.pyplot as plt\n",
    "import dask\n",
    "from distributed.utils import format_bytes\n",
    "import hvplot.pandas\n",
    "import hvplot.xarray"
   ]
  },
  {
   "cell_type": "markdown",
   "metadata": {},
   "source": [
    "### Connect to Dask Distributed Cluster\n"
   ]
  },
  {
   "cell_type": "code",
   "execution_count": null,
   "metadata": {},
   "outputs": [],
   "source": [
    "from dask.distributed import Client\n",
    "from dask_jobqueue import PBSCluster\n",
    "\n",
    "cluster = PBSCluster(\n",
    "    memory=\"109GB\",\n",
    "    cores=36,\n",
    "    processes=36,\n",
    "    walltime=\"00:15:00\",\n",
    "    queue=\"R7090406\",\n",
    ")\n",
    "# Scale adaptively (minimum of 10 nodes)\n",
    "cluster.adapt(minimum=36 * 10, maximum=36 * 11, wait_count=60)\n",
    "cluster"
   ]
  },
  {
   "cell_type": "code",
   "execution_count": null,
   "metadata": {},
   "outputs": [],
   "source": [
    "# Look at the job script\n",
    "print(cluster.job_script())"
   ]
  },
  {
   "cell_type": "code",
   "execution_count": null,
   "metadata": {},
   "outputs": [],
   "source": [
    "# Connect client to the remote dask workers\n",
    "client = Client(cluster)\n",
    "client"
   ]
  },
  {
   "cell_type": "markdown",
   "metadata": {},
   "source": [
    "### Open Dataset\n",
    "\n",
    "We'll load the dataset using a package called\n",
    "[xarray](http://xarray.pydata.org/en/stable/). Under the hood, this dataset is\n",
    "stored using the [Zarr](https://zarr.readthedocs.io/en/stable/) format.\n",
    "\n",
    "The dataset has dimensions of time, latitude, longitude, and ensemble member.\n"
   ]
  },
  {
   "cell_type": "code",
   "execution_count": null,
   "metadata": {},
   "outputs": [],
   "source": [
    "store = '/glade/scratch/abanihi/data/gmet_v1.zarr'\n",
    "%time ds = xr.open_zarr(store, consolidated=True)"
   ]
  },
  {
   "cell_type": "code",
   "execution_count": null,
   "metadata": {},
   "outputs": [],
   "source": [
    "# Get dataset size\n",
    "format_bytes(ds.nbytes)"
   ]
  },
  {
   "cell_type": "code",
   "execution_count": null,
   "metadata": {},
   "outputs": [],
   "source": [
    "# Print dataset\n",
    "ds"
   ]
  },
  {
   "cell_type": "code",
   "execution_count": null,
   "metadata": {},
   "outputs": [],
   "source": [
    "ds.pcp.data"
   ]
  },
  {
   "cell_type": "markdown",
   "metadata": {},
   "source": [
    "### Figure: Elevation and domain mask\n",
    "\n",
    "A quick plot of the mask to give us an idea of our spatial domain\n"
   ]
  },
  {
   "cell_type": "code",
   "execution_count": null,
   "metadata": {},
   "outputs": [],
   "source": [
    "%%time\n",
    "elevation = ds['elevation']\n",
    "elevation = elevation.where(elevation > 0).load()\n",
    "elevation.plot(figsize=(10, 6))\n",
    "plt.title('Domain Elevation')"
   ]
  },
  {
   "cell_type": "markdown",
   "metadata": {},
   "source": [
    "### Quantify the ensemble uncertainty for a single day\n",
    "\n",
    "This dataset provides 100 equally likely realizations of the\n",
    "temperature/precipitation that could have occured, given the station-observed\n",
    "weather. We can quantify the uncertaintly that comes from observation and\n",
    "gridding errors like this:\n"
   ]
  },
  {
   "cell_type": "code",
   "execution_count": null,
   "metadata": {},
   "outputs": [],
   "source": [
    "temp = ds[\"t_mean\"].sel(time=\"1984-07-31\")\n",
    "temp_ens_mean = temp.mean(\"member_id\")\n",
    "temp_errors = temp - temp_ens_mean\n",
    "temp_std_errors = temp_errors.std(\"member_id\")"
   ]
  },
  {
   "cell_type": "code",
   "execution_count": null,
   "metadata": {},
   "outputs": [],
   "source": [
    "temp_std_errors.plot(robust=True, figsize=(10, 6))"
   ]
  },
  {
   "cell_type": "markdown",
   "metadata": {},
   "source": [
    "As we can see, remote and topographically complex areas tend to have larger\n",
    "uncertainties in this dataset.\n"
   ]
  },
  {
   "cell_type": "markdown",
   "metadata": {},
   "source": [
    "### Intra-ensemble range\n",
    "\n",
    "We calculate the intra-ensemble range for all the mean daily temperature in this\n",
    "dataset. This gives us a sense of uncertainty.\n"
   ]
  },
  {
   "cell_type": "code",
   "execution_count": null,
   "metadata": {},
   "outputs": [],
   "source": [
    "temp_mean = ds[\"t_mean\"].mean(dim=\"time\")\n",
    "spread = temp_mean.max(dim=\"member_id\") - temp_mean.min(dim=\"member_id\")\n",
    "spread"
   ]
  },
  {
   "cell_type": "markdown",
   "metadata": {},
   "source": [
    "### Calling compute\n",
    "\n",
    "The expressions above didn't actually compute anything. They just build the task\n",
    "graph. To do the computations, we call the `compute` or `persist` methods:\n"
   ]
  },
  {
   "cell_type": "code",
   "execution_count": null,
   "metadata": {},
   "outputs": [],
   "source": [
    "spread = spread.persist(retries=2)\n",
    "spread"
   ]
  },
  {
   "cell_type": "markdown",
   "metadata": {},
   "source": [
    "#### Figure: Intra-ensemble range\n"
   ]
  },
  {
   "cell_type": "code",
   "execution_count": null,
   "metadata": {},
   "outputs": [],
   "source": [
    "spread.attrs[\"units\"] = \"degC\"\n",
    "spread.plot(robust=True, figsize=(10, 6))\n",
    "plt.title(\"Intra-ensemble range in mean annual temperature\")"
   ]
  },
  {
   "cell_type": "markdown",
   "metadata": {},
   "source": [
    "### Average seasonal snowfall\n",
    "\n",
    "We can compute a crude estimate of average seasonal snowfall using the\n",
    "temperature and precipitation variables in our dataset. Here, we'll look at the\n",
    "first 4 ensemble members and make some maps of the seasonal total snowfall in\n",
    "each ensemble member.\n"
   ]
  },
  {
   "cell_type": "code",
   "execution_count": null,
   "metadata": {},
   "outputs": [],
   "source": [
    "da_snow = (\n",
    "    ds[\"pcp\"].where(ds[\"t_mean\"] < 0.0).resample(time=\"QS-Mar\").sum(\"time\")\n",
    ")\n",
    "seasonal_snow = (\n",
    "    da_snow.isel(member_id=slice(0, 4))\n",
    "    .groupby(\"time.season\")\n",
    "    .mean(\"time\")\n",
    "    .compute()\n",
    ")"
   ]
  },
  {
   "cell_type": "code",
   "execution_count": null,
   "metadata": {},
   "outputs": [],
   "source": [
    "# properly sort the seasons\n",
    "seasonal_snow = seasonal_snow.sel(season=[\"DJF\", \"MAM\", \"JJA\", \"SON\"])\n",
    "seasonal_snow.attrs[\"units\"] = \"mm/season\"\n",
    "seasonal_snow"
   ]
  },
  {
   "cell_type": "markdown",
   "metadata": {},
   "source": [
    "#### Figure: Average seasonal snowfall totals\n"
   ]
  },
  {
   "cell_type": "code",
   "execution_count": null,
   "metadata": {},
   "outputs": [],
   "source": [
    "seasonal_snow.plot.pcolormesh(\n",
    "    col=\"season\", row=\"member_id\", cmap=\"Blues\", robust=True\n",
    ")"
   ]
  },
  {
   "cell_type": "markdown",
   "metadata": {},
   "source": [
    "### Extract a time series of annual maximum precipitation events over a region\n",
    "\n",
    "In the previous two examples, we've mostly reduced the time and/or ensemble\n",
    "dimension. Here, we'll do a reduction operation on the spatial dimension to look\n",
    "at a time series of extreme precipitation events near Austin, TX (30.2672° N,\n",
    "97.7431° W).\n"
   ]
  },
  {
   "cell_type": "code",
   "execution_count": null,
   "metadata": {},
   "outputs": [],
   "source": [
    "buf = 0.25  # look at Austin +/- 0.25 deg\n",
    "\n",
    "ds_tx = ds.sel(\n",
    "    lon=slice(-97.7431 - buf, -97.7431 + buf),\n",
    "    lat=slice(30.2672 - buf, 30.2672 + buf),\n",
    ")"
   ]
  },
  {
   "cell_type": "code",
   "execution_count": null,
   "metadata": {},
   "outputs": [],
   "source": [
    "pcp_ann_max = ds_tx[\"pcp\"].resample(time=\"AS\").max(\"time\")"
   ]
  },
  {
   "cell_type": "code",
   "execution_count": null,
   "metadata": {},
   "outputs": [],
   "source": [
    "pcp_ann_max_ts = pcp_ann_max.max((\"lat\", \"lon\")).compute()\n",
    "pcp_ann_max_ts"
   ]
  },
  {
   "cell_type": "markdown",
   "metadata": {},
   "source": [
    "#### Figure: Timeseries of maximum precipitation near Austin, Tx.\n"
   ]
  },
  {
   "cell_type": "code",
   "execution_count": null,
   "metadata": {},
   "outputs": [],
   "source": [
    "pcp_ann_max_ts.hvplot.line(\n",
    "    x=\"time\", title=\"Maximum precipitation near Austin, Tx\", legend=False\n",
    ")"
   ]
  },
  {
   "cell_type": "code",
   "execution_count": null,
   "metadata": {},
   "outputs": [],
   "source": [
    "cluster.close()\n",
    "client.close()"
   ]
  },
  {
   "cell_type": "code",
   "execution_count": null,
   "metadata": {},
   "outputs": [],
   "source": []
  }
 ],
 "metadata": {
  "kernelspec": {
   "display_name": "Python [conda env:demo]",
   "language": "python",
   "name": "conda-env-demo-py"
  },
  "language_info": {
   "codemirror_mode": {
    "name": "ipython",
    "version": 3
   },
   "file_extension": ".py",
   "mimetype": "text/x-python",
   "name": "python",
   "nbconvert_exporter": "python",
   "pygments_lexer": "ipython3",
   "version": "3.7.3"
  }
 },
 "nbformat": 4,
 "nbformat_minor": 4
}
